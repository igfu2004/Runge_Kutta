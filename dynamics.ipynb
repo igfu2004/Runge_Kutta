{
 "cells": [
  {
   "cell_type": "markdown",
   "metadata": {},
   "source": [
    "# Sistemas dinámicos"
   ]
  },
  {
   "cell_type": "markdown",
   "metadata": {},
   "source": [
    "Los sistemas dinámicos son modelos de suma importancia en las ciencias. En general, un modelo dinámico intenta resolver la trayectoria temporal de alguna cantidad física como función de algún generador dinámico; este último usualmente representado de forma funcional.\n",
    "\n",
    "En algunos casos, podemos modelar la dinámica de un estado genérico $y$ mediante la ecuación dinámica\n",
    "\\begin{equation}\n",
    "\\frac{dy}{dt} = f(t, y),\n",
    "\\end{equation}\n",
    "sujeta a la condición inicial\n",
    "\\begin{equation}\n",
    "y(t_0) = y_0.\n",
    "\\end{equation}\n",
    "\n",
    "En esta notación, $y$ corresponde a un estado del sistema. Este estado puede ser representado mediante diferentes objetos matemáticos: desde cantidades escalares hasta matrices que representan cierto operador lineal. En la ecuación anterior, $t$ corresponde a la variable temporal.\n",
    "\n",
    "El problema dinámico descrito anteriormente es usualmente conocido en el campo de las matemáticas aplicadas como **problema de condición inicial**. "
   ]
  },
  {
   "cell_type": "markdown",
   "metadata": {},
   "source": [
    "#### Laboratorio\n",
    "\n",
    "Este tipo de problemas, el cual corresponde a algún modelo dinámico (para nombrar algunos ejemplos: sistemas electromagnéticos, dinámica de fluidos, sistemas caóticos, sistemas cuánticos, entre otros) será tema del curso más adelante. En este laboratorio, nuestro objetivo es aplicar conceptos de programación en `Python` utilizando `Jupyter Notebook`s para resolver el problema dinámico."
   ]
  },
  {
   "cell_type": "markdown",
   "metadata": {},
   "source": [
    "### Breve introducción a `Numpy`\n",
    "\n",
    "En cálculos referentes a ciencia aplicada, una de las bibliotecas más importantes para diseñar aplicaciones científicas en `Python` es `Numpy`. `Numpy` está estructurado como un módulo, que debe ser importado para su uso.\n",
    "\n",
    "Esto se realiza mediante la cláusula:"
   ]
  },
  {
   "cell_type": "code",
   "execution_count": 1,
   "metadata": {},
   "outputs": [],
   "source": [
    "import numpy as np"
   ]
  },
  {
   "cell_type": "markdown",
   "metadata": {},
   "source": [
    "La cláusula `import` importa el módulo a nuestro ambiente de programación, mientras que el *keyword* `as` implica que usaremos un acrónimo para invocar la funcionalidad del módulo; con el simple objetivo de no escribir la palabra `numpy` antes de cada función que invoquemos.\n",
    "\n",
    "El objeto más importante del módulo `Numpy` es el `numpy.ndarray`. Este objeto es un contenedor (estructura de datos) que representa objetos como vectores, matrices o tensores. \n",
    "\n",
    "El constructor (estudiaremos contructores más adelante), se invoca pasando como argumento un `Python` `list`. Veamos por ejemplo como construir una matriz identidad 2x2 con esta estructura:"
   ]
  },
  {
   "cell_type": "code",
   "execution_count": 2,
   "metadata": {},
   "outputs": [
    {
     "name": "stdout",
     "output_type": "stream",
     "text": [
      "[[1 0]\n",
      " [0 1]]\n"
     ]
    }
   ],
   "source": [
    "identityMatrix = np.array([[1,0], [0,1]])\n",
    "\n",
    "print(identityMatrix)"
   ]
  },
  {
   "cell_type": "markdown",
   "metadata": {},
   "source": [
    "Note que pasamos una lista de listas para crear un objeto de mayor dimensión; i.e, una matrix. Los objetos creados con `np.array` contienen varias propiedades, tales como su tamaño y dichos atributos se accesan mediante el operador `.`:"
   ]
  },
  {
   "cell_type": "code",
   "execution_count": 3,
   "metadata": {},
   "outputs": [
    {
     "data": {
      "text/plain": [
       "(2, 2)"
      ]
     },
     "execution_count": 3,
     "metadata": {},
     "output_type": "execute_result"
    }
   ],
   "source": [
    "identityMatrix.shape"
   ]
  },
  {
   "cell_type": "markdown",
   "metadata": {},
   "source": [
    "Los objetos se pueden operar matemáticamente de forma sencilla:"
   ]
  },
  {
   "cell_type": "code",
   "execution_count": 4,
   "metadata": {},
   "outputs": [
    {
     "data": {
      "text/plain": [
       "array([[2, 0],\n",
       "       [0, 2]])"
      ]
     },
     "execution_count": 4,
     "metadata": {},
     "output_type": "execute_result"
    }
   ],
   "source": [
    "identityMatrix + identityMatrix"
   ]
  },
  {
   "cell_type": "code",
   "execution_count": 5,
   "metadata": {},
   "outputs": [
    {
     "data": {
      "text/plain": [
       "array([[1, 0],\n",
       "       [0, 1]])"
      ]
     },
     "execution_count": 5,
     "metadata": {},
     "output_type": "execute_result"
    }
   ],
   "source": [
    "aEx = np.array([[0,1], [1,0]])\n",
    "\n",
    "np.dot(aEx, aEx) # El producto matricial A*B"
   ]
  },
  {
   "cell_type": "markdown",
   "metadata": {},
   "source": [
    "La documentación de `Numpy` se puede accesar mediante su página de referencia:\n",
    "[NumPy](https://numpy.org)"
   ]
  },
  {
   "cell_type": "markdown",
   "metadata": {},
   "source": [
    "## Soluciones a sistemas dinámicos\n",
    "\n",
    "Los sistemas dinámicos y las soluciones numéricas a ecuaciones diferenciales son un tema importante de este curso que será estudiado más adelante. De momento, queremos utilizar este problema para familiarizarnos con el ambiente de programación científica."
   ]
  },
  {
   "cell_type": "markdown",
   "metadata": {},
   "source": [
    "Lo primero que vamos a hacer es describir el método numérico que vamos a utilizar para implementar la solución.\n",
    "\n",
    "Vamos a utilizar el método Runge-Kutta de orden 4 para resolver el problema."
   ]
  },
  {
   "cell_type": "markdown",
   "metadata": {},
   "source": [
    "## Método Runge-Kutta de orden 4 (RK4)\n",
    "\n",
    "Escriba las ecuaciones del método numérico utilizando LateX embedido en una celda de Markdown:"
   ]
  },
  {
   "cell_type": "markdown",
   "metadata": {},
   "source": [
    "# Cambie esta celda a tipo Markdown y utilice LateX para escribir las ecuaciones que \n",
    "# se utilizan para resolver el problema utilizando el método RK4.\n",
    "Este metodo se utiliza para resolver problemas dinamicos en los que se busca un $y_{n+1}$ a partir de un momento $y_{n}$ en un tiempo $t_n$ por medio de la ecuacion:\n",
    "\n",
    "\\begin{equation}\n",
    "    y_{n+1} = y_n + \\frac{1}{6}(k_1 + 2k_2 + 2k_3 + k_{4})\n",
    "\\end{equation}\n",
    "\n",
    "En las que las $k_1$, $k_2$, $k_3$ y $k_4$ estan dadas por:\n",
    "\n",
    "\\begin{equation}\n",
    "    k_1 = hf(x_n , y_n )\\\\\n",
    "    k_2 = hf(t_n + \\frac{h}{2},y_n + \\frac{k_{1}}{2})\\\\\n",
    "    k_3 = hf(t_n + \\frac{h}{2},y_n + \\frac{k_{1}}{2})\\\\\n",
    "    k_4 = hf(t_n + h,y_n + k_{3})\n",
    "\\end{equation}"
   ]
  },
  {
   "cell_type": "markdown",
   "metadata": {},
   "source": [
    "## Ejemplo\n",
    "\n",
    "Armados con esta metodología vamos a estudiar la solución de un problema dinámico genérico.\n",
    "\n",
    "Asumamos que queremos estudiar la evolución temporal de un estado $\\mathbf{y}(t)$. Este estado será representado mediante una matriz 2x2 que corresponde a algún operador lineal. La función que genra la dinámica del problema es \n",
    "$$\n",
    "f(t, \\mathbf{y}) = -{\\rm{i}} [\\mathbf{O}, \\mathbf{y}(t)],\n",
    "$$\n",
    "donde $\\mathbf{O}$ es otro operador lineal, ${\\rm{i}}$ es la constante compleja y $[A, B] = AB - BA$ es un operación de conmutación. Note que **la función $f(t, \\mathbf{y})$ no depende explícitamente de la variable temporal**.\n",
    "\n",
    "En Python, la constante compleja se denota mediante:"
   ]
  },
  {
   "cell_type": "code",
   "execution_count": 6,
   "metadata": {},
   "outputs": [
    {
     "name": "stdout",
     "output_type": "stream",
     "text": [
      "1j\n"
     ]
    }
   ],
   "source": [
    "iConst = 1.0j\n",
    "\n",
    "print(iConst)"
   ]
  },
  {
   "cell_type": "markdown",
   "metadata": {},
   "source": [
    "La dinámica del problema depende intrínsicamente del operador $\\mathbf{O}$. Escojamos el siguiente operador:"
   ]
  },
  {
   "cell_type": "code",
   "execution_count": 7,
   "metadata": {},
   "outputs": [
    {
     "name": "stdout",
     "output_type": "stream",
     "text": [
      "[[0 1]\n",
      " [1 0]]\n"
     ]
    }
   ],
   "source": [
    "oOper = np.array([[0, 1], [1, 0]])\n",
    "\n",
    "print(oOper)"
   ]
  },
  {
   "cell_type": "markdown",
   "metadata": {},
   "source": [
    "Dicho operador puede tener distintos significados físicos dependiendo del problema dinámico en cuestión. Puede representar un mapa algebraico, el generador dinámico de un sistema caótico, un Hamiltoniano, etc. "
   ]
  },
  {
   "cell_type": "markdown",
   "metadata": {},
   "source": [
    "Lo siguiente es difinir un estado inicial. De igual forma, dicho estado puede representar cantidades físicas de un sistema. Consideremos:"
   ]
  },
  {
   "cell_type": "code",
   "execution_count": 8,
   "metadata": {},
   "outputs": [
    {
     "name": "stdout",
     "output_type": "stream",
     "text": [
      "[[1 0]\n",
      " [0 0]]\n"
     ]
    }
   ],
   "source": [
    "yInit = np.array([[1, 0], [0, 0]])\n",
    "\n",
    "print(yInit)"
   ]
  },
  {
   "cell_type": "markdown",
   "metadata": {},
   "source": [
    "Note que el operador $\\mathbf{O}$ no es diagonal, por lo cual esperamos que conforme avanza el tiempo, dicho operador modifica el estado $\\mathbf{y}(t)$.\n",
    "\n",
    "Implementemos la función $f(t, \\mathbf{y})$ en Python. Para esto puede utilizar la función [np.dot](https://numpy.org/doc/stable/reference/generated/numpy.dot.html)"
   ]
  },
  {
   "cell_type": "code",
   "execution_count": 9,
   "metadata": {},
   "outputs": [],
   "source": [
    "# Su código aquí\n",
    "# El keyword pass está aquí para que la celda pueda ser interpretada sin necesidad de\n",
    "# tener la función implementada. Su tarea es borrar el pass e implementar la función\n",
    "def dyn_generator(oper, state):\n",
    "    return -1.0j*(np.dot(oper,state)-np.dot(state,oper))"
   ]
  },
  {
   "cell_type": "markdown",
   "metadata": {},
   "source": [
    "Ahora tenemos que implementar la función que realiza la operación dinámica en `Python`. Escriba una función que implementa el método RK4:"
   ]
  },
  {
   "cell_type": "code",
   "execution_count": 10,
   "metadata": {},
   "outputs": [],
   "source": [
    "def rk4(func, oper, state, h):\n",
    "    k1 = h*func(oper,state)\n",
    "    k2 = h* func(oper+ (h/2), state+ (k1/2))\n",
    "    k3 = h* func(oper + (h/2), state + (k2/2))\n",
    "    k4 = h*func(oper+h,state+k3)\n",
    "    return state + (1/6)* (k1+2*k2+2*k3+k4)"
   ]
  },
  {
   "cell_type": "markdown",
   "metadata": {},
   "source": [
    "Con estas funciones a nuestra disposición, podemos evaluar la dinámica temporal en una grilla temporal unidimensional. Utilice la función [np.linspace](https://numpy.org/doc/stable/reference/generated/numpy.linspace.html) para crear un arreglo de valores temporales:"
   ]
  },
  {
   "cell_type": "code",
   "execution_count": 11,
   "metadata": {},
   "outputs": [],
   "source": [
    "# Su código aquí\n",
    "# Utilice el nombre \"times\" para la variable que contiene el arreglo de valores temporales\n",
    "# Utilice un valor final de t = 10.0\n",
    "times = np.linspace(0, 10, 100).astype(float)"
   ]
  },
  {
   "cell_type": "markdown",
   "metadata": {},
   "source": [
    "Note que dicha función genera un arreglo con valores temporales homogéneos. Cual sería el valor de $h$?"
   ]
  },
  {
   "cell_type": "code",
   "execution_count": 12,
   "metadata": {},
   "outputs": [],
   "source": [
    "# Su código aquí\n",
    "# Utilice el nombre \"h\" para la variable que contiene el paso temporal\n",
    "h = times[1]-times[0]"
   ]
  },
  {
   "cell_type": "markdown",
   "metadata": {},
   "source": [
    "Ahora creamos una rutina para realizar la evolución temporal. Primero, necesitamos una copia del operador que representa el estado inicial. Esto se puede hacer con el método `copy()` del módulo `numpy`:"
   ]
  },
  {
   "cell_type": "code",
   "execution_count": 13,
   "metadata": {},
   "outputs": [],
   "source": [
    "# Haga un deep copy de yInit y llamele yCopy\n",
    "# Los deep copies son muy importantes, analizaremos esto más adelante en el curso\n",
    "yCopy = yInit.copy()"
   ]
  },
  {
   "cell_type": "markdown",
   "metadata": {},
   "source": [
    "Y, finalmente, llamamos de manera iterativa la rutina `rk4()`, calculando el operador del estado del sistema $\\mathbf{y}(t)$ a través del tiempo. A travéz del tiempo, vamos a guardar la entrada $(0, 0)$ y $(1, 1)$ de la matriz $\\mathbf{y}(t)$. \n",
    "\n",
    "Para esto, vamos a inicializar dos arreglos que van a contener los valores con valores iniciales cero. Utilizamos el mismo tamaño del arreglo que contiene la variable independiente temporal: "
   ]
  },
  {
   "cell_type": "code",
   "execution_count": 14,
   "metadata": {},
   "outputs": [],
   "source": [
    "stateQuant00 = np.zeros(times.size)\n",
    "stateQuant11 = np.zeros(times.size)"
   ]
  },
  {
   "cell_type": "markdown",
   "metadata": {},
   "source": [
    "Rutina principal: esta rutina realiza la evolución temporal."
   ]
  },
  {
   "cell_type": "code",
   "execution_count": 15,
   "metadata": {},
   "outputs": [
    {
     "name": "stdout",
     "output_type": "stream",
     "text": [
      "1.0\n",
      "[[0.98878249+0.j        0.        +0.1053151j]\n",
      " [0.        -0.1053151j 0.01121751+0.j       ]]\n",
      "0.9887824862557706\n",
      "[[0.9556341+0.j        0.       +0.2059047j]\n",
      " [0.       -0.2059047j 0.0443659+0.j       ]]\n",
      "0.9556340973327472\n",
      "[[0.90204218+0.j         0.        +0.29725553j]\n",
      " [0.        -0.29725553j 0.09795782+0.j        ]]\n",
      "0.9020421848260465\n",
      "[[0.83041137+0.j         0.        +0.37526882j]\n",
      " [0.        -0.37526882j 0.16958863+0.j        ]]\n",
      "0.8304113663100722\n",
      "[[0.74395563+0.j         0.        +0.43644426j]\n",
      " [0.        -0.43644426j 0.25604437+0.j        ]]\n",
      "0.7439556324605163\n",
      "[[0.64655414+0.j         0.        +0.47803705j]\n",
      " [0.        -0.47803705j 0.35344586+0.j        ]]\n",
      "0.6465541390685219\n",
      "[[0.54257715+0.j       0.        +0.498181j]\n",
      " [0.        -0.498181j 0.45742285+0.j      ]]\n",
      "0.5425771543899144\n",
      "[[0.43668997+0.j         0.        +0.49597233j]\n",
      " [0.        -0.49597233j 0.56331003+0.j        ]]\n",
      "0.4366899713444775\n",
      "[[0.33364358+0.j         0.        +0.47151017j]\n",
      " [0.        -0.47151017j 0.66635642+0.j        ]]\n",
      "0.3336435827495799\n",
      "[[0.23806151+0.j         0.        +0.42589214j]\n",
      " [0.        -0.42589214j 0.76193849+0.j        ]]\n",
      "0.23806151167961842\n",
      "[[0.15423236+0.j         0.        +0.36116509j]\n",
      " [0.        -0.36116509j 0.84576764+0.j        ]]\n",
      "0.15423236154070197\n",
      "[[0.08591739+0.j         0.        +0.28023323j]\n",
      " [0.        -0.28023323j 0.91408261+0.j        ]]\n",
      "0.08591739379974149\n",
      "[[0.03618177+0.j         0.        +0.18672789j]\n",
      " [0.        -0.18672789j 0.96381823+0.j        ]]\n",
      "0.03618176702483542\n",
      "[[0.00725701+0.j         0.        +0.08484452j]\n",
      " [0.        -0.08484452j 0.99274299+0.j        ]]\n",
      "0.007257009234201035\n",
      "[[4.40894150e-04+0.j         0.00000000e+00-0.02084553j]\n",
      " [0.00000000e+00+0.02084553j 9.99559106e-01+0.j        ]]\n",
      "0.0004408941495233727\n",
      "[[0.01603921+0.j         0.        -0.12560009j]\n",
      " [0.        +0.12560009j 0.98396079+0.j        ]]\n",
      "0.01603921368568382\n",
      "[[0.05335206+0.j         0.        -0.22471901j]\n",
      " [0.        +0.22471901j 0.94664794+0.j        ]]\n",
      "0.05335205918388181\n",
      "[[0.11070523+0.j         0.        -0.31375497j]\n",
      " [0.        +0.31375497j 0.88929477+0.j        ]]\n",
      "0.11070522685426502\n",
      "[[0.18552534+0.j         0.        -0.38871311j]\n",
      " [0.        +0.38871311j 0.81447466+0.j        ]]\n",
      "0.1855253382415809\n",
      "[[0.27445531+0.j         0.        -0.44623018j]\n",
      " [0.        +0.44623018j 0.72554469+0.j        ]]\n",
      "0.2744553051060474\n",
      "[[0.37350496+0.j         0.        -0.48372552j]\n",
      " [0.        +0.48372552j 0.62649504+0.j        ]]\n",
      "0.3735049579273655\n",
      "[[0.47823008+0.j        0.        -0.4995168j]\n",
      " [0.        +0.4995168j 0.52176992+0.j       ]]\n",
      "0.47823007951240826\n",
      "[[0.58393181+0.j         0.        -0.49289553j]\n",
      " [0.        +0.49289553j 0.41606819+0.j        ]]\n",
      "0.5839318107063537\n",
      "[[0.68586748+0.j         0.        -0.46415883j]\n",
      " [0.        +0.46415883j 0.31413252+0.j        ]]\n",
      "0.6858674811563198\n",
      "[[0.77946341+0.j         0.        -0.41459611j]\n",
      " [0.        +0.41459611j 0.22053659+0.j        ]]\n",
      "0.7794634054673089\n",
      "[[0.8605201+0.j        0.       -0.3464312j]\n",
      " [0.       +0.3464312j 0.1394799+0.j       ]]\n",
      "0.8605200969217891\n",
      "[[0.92540069+0.j         0.        -0.26272259j]\n",
      " [0.        +0.26272259j 0.07459931+0.j        ]]\n",
      "0.9254006911618071\n",
      "[[0.97119413+0.j         0.        -0.16722617j]\n",
      " [0.        +0.16722617j 0.02880587+0.j        ]]\n",
      "0.9711941255899657\n",
      "[[0.99584575+0.j         0.        -0.06422673j]\n",
      " [0.        +0.06422673j 0.00415425+0.j        ]]\n",
      "0.9958457529302872\n",
      "[[0.99824953+0.j         0.        +0.04165429j]\n",
      " [0.        -0.04165429j 0.00175047+0.j        ]]\n",
      "0.9982495285795244\n",
      "[[0.97829764+0.j         0.        +0.14566617j]\n",
      " [0.        -0.14566617j 0.02170236+0.j        ]]\n",
      "0.9782976355120856\n",
      "[[0.93688532+0.j         0.        +0.24314207j]\n",
      " [0.        -0.24314207j 0.06311468+0.j        ]]\n",
      "0.9368853202178924\n",
      "[[0.87587072+0.j         0.        +0.32970842j]\n",
      " [0.        -0.32970842j 0.12412928+0.j        ]]\n",
      "0.8758707227659399\n",
      "[[0.7979915+0.j         0.       +0.40148112j]\n",
      " [0.       -0.40148112j 0.2020085+0.j        ]]\n",
      "0.7979915034287651\n",
      "[[0.70674201+0.j         0.        +0.45523989j]\n",
      " [0.        -0.45523989j 0.29325799+0.j        ]]\n",
      "0.7067420067697392\n",
      "[[0.60621647+0.j         0.        +0.48857268j]\n",
      " [0.        -0.48857268j 0.39378353+0.j        ]]\n",
      "0.6062164747103\n",
      "[[0.50092534+0.j         0.        +0.49998394j]\n",
      " [0.        -0.49998394j 0.49907466+0.j        ]]\n",
      "0.5009253434135116\n",
      "[[0.39559287+0.j         0.        +0.48896169j]\n",
      " [0.        -0.48896169j 0.60440713+0.j        ]]\n",
      "0.3955928664951729\n",
      "[[0.29494514+0.j         0.        +0.45600053j]\n",
      " [0.        -0.45600053j 0.70505486+0.j        ]]\n",
      "0.2949451449181675\n",
      "[[0.20349807+0.j        0.        +0.4025794j]\n",
      " [0.        -0.4025794j 0.79650193+0.j       ]]\n",
      "0.20349807434769995\n",
      "[[0.12535472+0.j         0.        +0.33109526j]\n",
      " [0.        -0.33109526j 0.87464528+0.j        ]]\n",
      "0.12535472443283233\n",
      "[[0.06402124+0.j         0.        +0.24475552j]\n",
      " [0.        -0.24475552j 0.93597876+0.j        ]]\n",
      "0.06402124126854543\n",
      "[[0.02224953+0.j         0.        +0.14743413j]\n",
      " [0.        -0.14743413j 0.97775047+0.j        ]]\n",
      "0.022249533171925975\n",
      "[[0.0019138+0.j         0.       +0.04349776j]\n",
      " [0.       -0.04349776j 0.9980862+0.j        ]]\n",
      "0.0019137981677485663\n",
      "[[0.00392643+0.j         0.        -0.06239011j]\n",
      " [0.        +0.06239011j 0.99607357+0.j        ]]\n",
      "0.003926433143385064\n",
      "[[0.0281971+0.j         0.       -0.16547846j]\n",
      " [0.       +0.16547846j 0.9718029+0.j        ]]\n",
      "0.028197097630931443\n",
      "[[0.07363677+0.j         0.        -0.26114188j]\n",
      " [0.        +0.26114188j 0.92636323+0.j        ]]\n",
      "0.07363676888867834\n",
      "[[0.13820661+0.j         0.        -0.34508813j]\n",
      " [0.        +0.34508813j 0.86179339+0.j        ]]\n",
      "0.13820660626290981\n",
      "[[0.21900943+0.j         0.        -0.41355068j]\n",
      " [0.        +0.41355068j 0.78099057+0.j        ]]\n",
      "0.21900943229009534\n",
      "[[0.31241973+0.j         0.        -0.46345776j]\n",
      " [0.        +0.46345776j 0.68758027+0.j        ]]\n",
      "0.3124197258577088\n",
      "[[0.41424629+0.j         0.        -0.49257014j]\n",
      " [0.        +0.49257014j 0.58575371+0.j        ]]\n",
      "0.41424629477376956\n",
      "[[0.51992033+0.j         0.        -0.49958164j]\n",
      " [0.        +0.49958164j 0.48007967+0.j        ]]\n",
      "0.5199203288316375\n",
      "[[0.6247004+0.j         0.       -0.48417769j]\n",
      " [0.       +0.48417769j 0.3752996+0.j        ]]\n",
      "0.6247003956860908\n",
      "[[0.72388518+0.j         0.        -0.44704948j]\n",
      " [0.        +0.44704948j 0.27611482+0.j        ]]\n",
      "0.7238851816735603\n",
      "[[0.81302443+0.j         0.        -0.38986293j]\n",
      " [0.        +0.38986293j 0.18697557+0.j        ]]\n",
      "0.8130244322211738\n",
      "[[0.88811863+0.j         0.        -0.31518395j]\n",
      " [0.        +0.31518395j 0.11188137+0.j        ]]\n",
      "0.8881186272865408\n",
      "[[0.94579843+0.j         0.        -0.22636328j]\n",
      " [0.        +0.22636328j 0.05420157+0.j        ]]\n",
      "0.945798432727041\n",
      "[[0.98347588+0.j        0.        -0.1273862j]\n",
      " [0.        +0.1273862j 0.01652412+0.j       ]]\n",
      "0.9834758759340184\n",
      "[[9.99460463e-01+0.j         0.00000000e+00-0.02269367j]\n",
      " [0.00000000e+00+0.02269367j 5.39537232e-04+0.j        ]]\n",
      "0.9994604627678276\n",
      "[[0.99303503+0.j         0.        +0.08301692j]\n",
      " [0.        -0.08301692j 0.00696497+0.j        ]]\n",
      "0.9930350258689603\n",
      "[[0.9644879+0.j        0.       +0.1850025j]\n",
      " [0.       -0.1850025j 0.0355121+0.j       ]]\n",
      "0.9644879012182249\n",
      "[[0.91509999+0.j         0.        +0.27868714j]\n",
      " [0.        -0.27868714j 0.08490001+0.j        ]]\n",
      "0.9150999893066261\n",
      "[[0.84708728+0.j         0.        +0.35986738j]\n",
      " [0.        -0.35986738j 0.15291272+0.j        ]]\n",
      "0.8470872815338519\n",
      "[[0.76350143+0.j         0.        +0.42490081j]\n",
      " [0.        -0.42490081j 0.23649857+0.j        ]]\n",
      "0.7635014306577609\n",
      "[[0.66809283+0.j         0.        +0.47086951j]\n",
      " [0.        -0.47086951j 0.33190717+0.j        ]]\n",
      "0.6680928266097969\n",
      "[[0.56514232+0.j         0.        +0.49571096j]\n",
      " [0.        -0.49571096j 0.43485768+0.j        ]]\n",
      "0.5651423213085897\n",
      "[[0.45926915+0.j         0.        +0.49831061j]\n",
      " [0.        -0.49831061j 0.54073085+0.j        ]]\n",
      "0.45926915276354374\n",
      "[[0.35522369+0.j         0.        +0.47855185j]\n",
      " [0.        -0.47855185j 0.64477631+0.j        ]]\n",
      "0.3552236866478513\n",
      "[[0.25767427+0.j         0.        +0.43732127j]\n",
      " [0.        -0.43732127j 0.74232573+0.j        ]]\n",
      "0.25767427472222926\n",
      "[[0.17099779+0.j         0.        +0.37646884j]\n",
      " [0.        -0.37646884j 0.82900221+0.j        ]]\n",
      "0.17099779344295207\n",
      "[[0.09908326+0.j         0.        +0.29872495j]\n",
      " [0.        -0.29872495j 0.90091674+0.j        ]]\n",
      "0.09908326094801305\n",
      "[[0.04515734+0.j         0.        +0.20757787j]\n",
      " [0.        -0.20757787j 0.95484266+0.j        ]]\n",
      "0.045157343793749256\n",
      "[[0.01163958+0.j         0.        +0.10711726j]\n",
      " [0.        -0.10711726j 0.98836042+0.j        ]]\n",
      "0.01163958264145537\n",
      "[[3.38326386e-05+0.j         0.00000000e+00+0.00185063j]\n",
      " [0.00000000e+00-0.00185063j 9.99966167e-01+0.j        ]]\n",
      "3.3832638572421636e-05\n",
      "[[0.01086079+0.j         0.        -0.10349886j]\n",
      " [0.        +0.10349886j 0.98913921+0.j        ]]\n",
      "0.010860789332549867\n",
      "[[0.04363463+0.j         0.        -0.20420435j]\n",
      " [0.        +0.20420435j 0.95636537+0.j        ]]\n",
      "0.043634627504895766\n",
      "[[0.0968848+0.j         0.       -0.29574735j]\n",
      " [0.       +0.29574735j 0.9031152+0.j        ]]\n",
      "0.09688480103130831\n",
      "[[0.16822203+0.j         0.        -0.37402049j]\n",
      " [0.        +0.37402049j 0.83177797+0.j        ]]\n",
      "0.16822202556856714\n",
      "[[0.25444548+0.j         0.        -0.43551179j]\n",
      " [0.        +0.43551179j 0.74555452+0.j        ]]\n",
      "0.2544454834572288\n",
      "[[0.35168644+0.j         0.        -0.47746227j]\n",
      " [0.        +0.47746227j 0.64831356+0.j        ]]\n",
      "0.3516864406587044\n",
      "[[0.45558183+0.j        0.        -0.4979897j]\n",
      " [0.        +0.4979897j 0.54441817+0.j       ]]\n",
      "0.4555818318030701\n",
      "[[0.56147002+0.j        0.        -0.4961731j]\n",
      " [0.        +0.4961731j 0.43852998+0.j       ]]\n",
      "0.5614700248130358\n",
      "[[0.66459998+0.j       0.        -0.472094j]\n",
      " [0.        +0.472094j 0.33540002+0.j      ]]\n",
      "0.6645999814199532\n",
      "[[0.76034443+0.j         0.        -0.42683283j]\n",
      " [0.        +0.42683283j 0.23965557+0.j        ]]\n",
      "0.760344428849792\n",
      "[[0.84440748+0.j         0.        -0.36242042j]\n",
      " [0.        +0.36242042j 0.15559252+0.j        ]]\n",
      "0.8444074779976096\n",
      "[[0.91301737+0.j         0.        -0.28174689j]\n",
      " [0.        +0.28174689j 0.08698263+0.j        ]]\n",
      "0.9130173726020051\n",
      "[[0.96309572+0.j         0.        -0.18843196j]\n",
      " [0.        +0.18843196j 0.03690428+0.j        ]]\n",
      "0.9630957210947639\n",
      "[[0.99239562+0.j         0.        -0.08666254j]\n",
      " [0.        +0.08666254j 0.00760438+0.j        ]]\n",
      "0.992395618000119\n",
      "[[9.99602458e-01+0.j         0.00000000e+00+0.01899512j]\n",
      " [0.00000000e+00-0.01899512j 3.97542353e-04+0.j        ]]\n",
      "0.9996024576470163\n",
      "[[0.98439292+0.j         0.        +0.12380033j]\n",
      " [0.        -0.12380033j 0.01560708+0.j        ]]\n",
      "0.9843929169046038\n",
      "[[0.94744946+0.j         0.        +0.22305064j]\n",
      " [0.        -0.22305064j 0.05255054+0.j        ]]\n",
      "0.9474494605480679\n",
      "[[0.89042972+0.j         0.        +0.31229286j]\n",
      " [0.        -0.31229286j 0.10957028+0.j        ]]\n",
      "0.8904297184952031\n",
      "[[0.81589211+0.j         0.        +0.38752285j]\n",
      " [0.        -0.38752285j 0.18410789+0.j        ]]\n",
      "0.8158921089826393\n",
      "[[0.72718104+0.j         0.        +0.44536519j]\n",
      " [0.        -0.44536519j 0.27281896+0.j        ]]\n",
      "0.7271810449235598\n",
      "[[0.62827687+0.j         0.        +0.48322459j]\n",
      " [0.        -0.48322459j 0.37172313+0.j        ]]\n",
      "0.6282768741217002\n",
      "[[0.52361729+0.j         0.        +0.49940242j]\n",
      " [0.        -0.49940242j 0.47638271+0.j        ]]\n",
      "0.5236172863437873\n",
      "[[0.4178982+0.j         0.       +0.49317283j]\n",
      " [0.       -0.49317283j 0.5821018+0.j        ]]\n",
      "0.41789820047824366\n",
      "[[0.31586307+0.j         0.        +0.46481536j]\n",
      " [0.        -0.46481536j 0.68413693+0.j        ]]\n",
      "0.315863065690738\n",
      "[[0.22209003+0.j         0.        +0.41560242j]\n",
      " [0.        -0.41560242j 0.77790997+0.j        ]]\n",
      "0.22209003031803579\n",
      "[[0.14078653+0.j         0.        +0.34774213j]\n",
      " [0.        -0.34774213j 0.85921347+0.j        ]]\n"
     ]
    }
   ],
   "source": [
    "for tt in range(times.size):\n",
    "    # Guarde el valor de las entradas (0,0) y (1,1) en los arreglos que definimos\n",
    "    # Obtenga estos valores de las entradas de yInit\n",
    "    # Código aquí ->\n",
    "    stateQuant00[tt] = (yInit[0,0]).real\n",
    "    stateQuant11[tt] = (yInit[1,1]).real\n",
    "    print(str(stateQuant00[tt]))\n",
    "    # Invoque rk4 operando sobre yInit\n",
    "    # y devuelva el resultado a un nuevo yN\n",
    "    # Código aquí ->\n",
    "    print(str(dyn_generator))\n",
    "    print(str(oOper))\n",
    "    print(str(yInit))\n",
    "    print(str(h))\n",
    "    yN=rk4(dyn_generator,oOper,yInit,h)\n",
    "    # Ahora asignamos yN a yInit\n",
    "    # De esta manera, en la siguiente iteración, el operador de esta iteración se convierte en el inicial\n",
    "    # de la siguiente iteración\n",
    "    yInit = yN\n",
    "    print(str(yN))"
   ]
  },
  {
   "cell_type": "markdown",
   "metadata": {},
   "source": [
    "Hagamos un gráfico de los resultados usando `matplotlib`:"
   ]
  },
  {
   "cell_type": "code",
   "execution_count": 17,
   "metadata": {},
   "outputs": [
    {
     "data": {
      "image/png": "[encoded data removed]",
      "text/plain": [
       "<Figure size 900x450 with 1 Axes>"
      ]
     },
     "metadata": {},
     "output_type": "display_data"
    }
   ],
   "source": [
    "import matplotlib.pyplot as plt\n",
    "# Código aquí ->\n",
    "plt.style.use('_mpl-gallery')\n",
    "\n",
    "plt.figure(figsize=(6, 3), dpi=150)\n",
    "plt.plot(times,stateQuant00,label='Estado(0,0)',color='r')\n",
    "plt.plot(times,stateQuant11,label='Estado(1,1)',color='b')\n",
    "\n",
    "plt.xlabel('Tiempo')\n",
    "plt.ylabel('Estado')\n",
    "plt.legend()\n",
    "plt.show()\n",
    "# Juegue con el valor de h para probar que utilizando valores grandes de h la dinámica se vuelve inestable"
   ]
  },
  {
   "cell_type": "code",
   "execution_count": null,
   "metadata": {},
   "outputs": [],
   "source": []
  }
 ],
 "metadata": {
  "anaconda-cloud": {},
  "kernelspec": {
   "display_name": "Python 3 (ipykernel)",
   "language": "python",
   "name": "python3"
  },
  "language_info": {
   "codemirror_mode": {
    "name": "ipython",
    "version": 3
   },
   "file_extension": ".py",
   "mimetype": "text/x-python",
   "name": "python",
   "nbconvert_exporter": "python",
   "pygments_lexer": "ipython3",
   "version": "3.12.3"
  }
 },
 "nbformat": 4,
 "nbformat_minor": 1
}
